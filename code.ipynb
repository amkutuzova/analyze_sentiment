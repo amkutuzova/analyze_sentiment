{
  "nbformat": 4,
  "nbformat_minor": 0,
  "metadata": {
    "colab": {
      "provenance": [],
      "authorship_tag": "ABX9TyO2fPMBYn/+4v+LEQf7h6c2",
      "include_colab_link": true
    },
    "kernelspec": {
      "name": "python3",
      "display_name": "Python 3"
    },
    "language_info": {
      "name": "python"
    }
  },
  "cells": [
    {
      "cell_type": "markdown",
      "metadata": {
        "id": "view-in-github",
        "colab_type": "text"
      },
      "source": [
        "<a href=\"https://colab.research.google.com/github/amkutuzova/analyze_sentiment/blob/main/code.ipynb\" target=\"_parent\"><img src=\"https://colab.research.google.com/assets/colab-badge.svg\" alt=\"Open In Colab\"/></a>"
      ]
    },
    {
      "cell_type": "code",
      "execution_count": null,
      "metadata": {
        "id": "Gw2pFuVrgoGo"
      },
      "outputs": [],
      "source": [
        "from transformers import AutoModelForSequenceClassification\n",
        "from transformers import BertTokenizerFast\n",
        "import pandas as pd\n",
        "import torch\n",
        "import matplotlib.pyplot as plt\n",
        "import numpy as np\n",
        "\n",
        "tokenizer = BertTokenizerFast.from_pretrained('blanchefort/rubert-base-cased-sentiment')\n",
        "model = AutoModelForSequenceClassification.from_pretrained('blanchefort/rubert-base-cased-sentiment', return_dict=True)\n",
        "\n",
        "def analyze_sentiment(review):\n",
        "    inputs = tokenizer(review, padding=True, truncation=True, return_tensors='pt')\n",
        "    outputs = model(**inputs)\n",
        "    predicted = torch.nn.functional.softmax(outputs.logits, dim=1)\n",
        "    predicted = torch.argmax(predicted, dim=1).numpy()\n",
        "    return predicted\n",
        "\n",
        "df=pd.read_csv('/content/cafe_reviews.csv')\n",
        "df['predicted_sentiment'] = df['text'].apply(analyze_sentiment)\n",
        "\n",
        "sentiment_labels = {0: \"Negative\", 1: \"Neutral\", 2: \"Positive\"}\n",
        "\n",
        "sentiment_counts = df['predicted_sentiment'].value_counts().sort_index()\n",
        "labels = [sentiment_labels[int(idx)] for idx in sentiment_counts.index]\n",
        "\n",
        "plt.bar(labels, sentiment_counts, color=['gray', 'green', 'red'])\n",
        "plt.xlabel('Тональность')\n",
        "plt.ylabel('Количество отзывов')\n",
        "plt.title('Распределение тональности отзывов (Predicted)')\n",
        "plt.show()"
      ]
    }
  ]
}